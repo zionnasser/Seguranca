{
  "nbformat": 4,
  "nbformat_minor": 0,
  "metadata": {
    "colab": {
      "provenance": [],
      "include_colab_link": true
    },
    "kernelspec": {
      "name": "python3",
      "display_name": "Python 3"
    },
    "language_info": {
      "name": "python"
    }
  },
  "cells": [
    {
      "cell_type": "markdown",
      "metadata": {
        "id": "view-in-github",
        "colab_type": "text"
      },
      "source": [
        "<a href=\"https://colab.research.google.com/github/zionnasser/Seguranca/blob/main/Untitled3.ipynb\" target=\"_parent\"><img src=\"https://colab.research.google.com/assets/colab-badge.svg\" alt=\"Open In Colab\"/></a>"
      ]
    },
    {
      "cell_type": "code",
      "execution_count": null,
      "metadata": {
        "id": "3bE5FCIAHgA2"
      },
      "outputs": [],
      "source": [
        "import string\n",
        "\n",
        "def verificar_forca_senha(senha):\n",
        "  \"\"\"Verifica a força de uma senha e retorna uma classificação.\n",
        "\n",
        "  Args:\n",
        "    senha: A senha a ser analisada.\n",
        "\n",
        "  Returns:\n",
        "    Uma string indicando a força da senha (\"Fraca\", \"Média\" ou \"Forte\").\n",
        "  \"\"\"\n",
        "\n",
        "  # Calcula o comprimento da senha\n",
        "  comprimento = len(senha)\n",
        "\n",
        "  # Verifica se a senha contém letras maiúsculas, minúsculas, números e caracteres especiais\n",
        "  tem_maiúsculas = any(c.isupper() for c in senha)\n",
        "  tem_minusculas = any(c.islower() for c in senha)\n",
        "  tem_numeros = any(c.isdigit() for c in senha)\n",
        "  tem_especiais = any(c not in string.ascii_letters + string.digits for c in senha)\n",
        "\n",
        "  # Classifica a senha com base em critérios simples\n",
        "  if comprimento < 8:\n",
        "    return \"Fraca\"\n",
        "  elif comprimento >= 8 and (tem_maiúsculas or tem_minusculas or tem_numeros or tem_especiais):\n",
        "    return \"Média\"\n",
        "  elif comprimento >= 8 and tem_maiúsculas and tem_minusculas and tem_numeros and tem_especiais:\n",
        "    return \"Forte\"\n",
        "  else:\n",
        "    return \"Fraca\"\n",
        "\n",
        "# Exemplo de uso\n",
        "senha = input(\"Digite sua senha: \")\n",
        "resultado = verificar_forca_senha(senha)\n",
        "print(f\"A senha '{senha}' é considerada {resultado}.\")"
      ]
    }
  ]
}